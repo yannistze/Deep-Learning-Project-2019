{
 "cells": [
  {
   "cell_type": "markdown",
   "metadata": {
    "colab_type": "text",
    "id": "lA48wNvME4Em"
   },
   "source": [
    "# GPU Information"
   ]
  },
  {
   "cell_type": "code",
   "execution_count": null,
   "metadata": {
    "colab": {
     "base_uri": "https://localhost:8080/",
     "height": 34
    },
    "colab_type": "code",
    "id": "j2wDQssHPtw4",
    "outputId": "363a67db-737c-4280-fa66-6c202b00bbc4"
   },
   "outputs": [],
   "source": [
    "import tensorflow as tf\n",
    "tf.test.gpu_device_name()"
   ]
  },
  {
   "cell_type": "code",
   "execution_count": null,
   "metadata": {
    "colab": {
     "base_uri": "https://localhost:8080/",
     "height": 238
    },
    "colab_type": "code",
    "id": "onycWqyiP8Od",
    "outputId": "cf224c0e-db12-4ef5-ec3d-c86d9638b22e"
   },
   "outputs": [],
   "source": [
    "# memory footprint support libraries/code\n",
    "\n",
    "!ln -sf /opt/bin/nvidia-smi /usr/bin/nvidia-smi\n",
    "!pip install gputil\n",
    "!pip install psutil\n",
    "!pip install humanize\n",
    "\n",
    "import psutil\n",
    "import humanize\n",
    "import os\n",
    "import GPUtil as GPU\n",
    "\n",
    "GPUs = GPU.getGPUs()\n",
    "\n",
    "# XXX: only one GPU on Colab and isn’t guaranteed\n",
    "gpu = GPUs[0]\n",
    "\n",
    "def printm():\n",
    " process = psutil.Process(os.getpid())\n",
    " print(\"Gen RAM Free: \" + humanize.naturalsize( psutil.virtual_memory().available ), \" | Proc size: \" + humanize.naturalsize( process.memory_info().rss))\n",
    " print(\"GPU RAM Free: {0:.0f}MB | Used: {1:.0f}MB | Util {2:3.0f}% | Total {3:.0f}MB\".format(gpu.memoryFree, gpu.memoryUsed, gpu.memoryUtil*100, gpu.memoryTotal))\n",
    "\n",
    "printm() "
   ]
  },
  {
   "cell_type": "code",
   "execution_count": null,
   "metadata": {
    "colab": {},
    "colab_type": "code",
    "id": "bjVFhaIMgmwE"
   },
   "outputs": [],
   "source": [
    "#!kill -9 -1"
   ]
  },
  {
   "cell_type": "markdown",
   "metadata": {
    "colab_type": "text",
    "id": "nOngHFvfEmCO"
   },
   "source": [
    "# Data Warehousing Setup\n",
    "\n"
   ]
  },
  {
   "cell_type": "code",
   "execution_count": null,
   "metadata": {
    "colab": {
     "base_uri": "https://localhost:8080/",
     "height": 122
    },
    "colab_type": "code",
    "id": "UfHxbgwP4oEp",
    "outputId": "03633a16-e2bb-4b17-d575-477281a35f0c"
   },
   "outputs": [],
   "source": [
    "# Mount Google Drive folder\n",
    "\n",
    "from google.colab import drive\n",
    "drive.mount('/content/drive', force_remount=True)"
   ]
  },
  {
   "cell_type": "code",
   "execution_count": null,
   "metadata": {
    "colab": {
     "base_uri": "https://localhost:8080/",
     "height": 34
    },
    "colab_type": "code",
    "id": "oCY70XRU3f41",
    "outputId": "1c4e734d-7aaf-4c39-f3ad-c3d0fd3a17dc"
   },
   "outputs": [],
   "source": [
    "# Add models repos and save space \n",
    "\n",
    "%cd  /content/drive/My Drive/Models Running/Summarization"
   ]
  },
  {
   "cell_type": "markdown",
   "metadata": {
    "colab_type": "text",
    "id": "xYxSfzO6K2C6"
   },
   "source": [
    "# Lex Rank Model\n"
   ]
  },
  {
   "cell_type": "code",
   "execution_count": null,
   "metadata": {
    "colab": {
     "base_uri": "https://localhost:8080/",
     "height": 493
    },
    "colab_type": "code",
    "id": "-rc8TCYuK2C0",
    "outputId": "aa87b516-4a77-41df-db59-2e36ef4ab996"
   },
   "outputs": [],
   "source": [
    "! pip install lexrank"
   ]
  },
  {
   "cell_type": "code",
   "execution_count": null,
   "metadata": {
    "colab": {},
    "colab_type": "code",
    "id": "YSYuKh1vK2Cx"
   },
   "outputs": [],
   "source": [
    "#! rm -rf lexrank"
   ]
  },
  {
   "cell_type": "code",
   "execution_count": null,
   "metadata": {
    "colab": {
     "base_uri": "https://localhost:8080/",
     "height": 119
    },
    "colab_type": "code",
    "id": "GM_7fzwYK2Cu",
    "outputId": "e9334412-b03c-4a63-e073-6be7a2480acf"
   },
   "outputs": [],
   "source": [
    "! git clone https://github.com/crabcamp/lexrank.git"
   ]
  },
  {
   "cell_type": "code",
   "execution_count": null,
   "metadata": {
    "colab": {
     "base_uri": "https://localhost:8080/",
     "height": 34
    },
    "colab_type": "code",
    "id": "4vW7kdpzK2Cr",
    "outputId": "7df39908-5fdd-4df9-fd4c-8ba19ce1a74f"
   },
   "outputs": [],
   "source": [
    "% cd /content/drive/My Drive/Models Running/Summarization/lexrank\n",
    "\n",
    "import os\n",
    "import pandas as pd\n",
    "\n",
    "from lexrank import STOPWORDS, LexRank\n",
    "from path import Path\n",
    "\n",
    "import warnings\n",
    "warnings.filterwarnings(\"ignore\")\n",
    "\n",
    "genre = pd.read_csv('/content/drive/My Drive/Models Running/Summarization/datasets/genre_final_for_summarization.tsv', sep='\\t')"
   ]
  },
  {
   "cell_type": "code",
   "execution_count": null,
   "metadata": {
    "colab": {
     "base_uri": "https://localhost:8080/",
     "height": 102
    },
    "colab_type": "code",
    "id": "igpiUUx_A20z",
    "outputId": "0f0de587-0868-4ad0-db46-aa3391d003f3"
   },
   "outputs": [],
   "source": [
    "documents = []\n",
    "documents_dir = Path('/content/drive/My Drive/Models Running/Summarization/datasets/training/lexrank/bbc')\n",
    "\n",
    "folders = [dI for dI in os.listdir(documents_dir) if os.path.isdir(os.path.join(documents_dir,dI))]\n",
    "\n",
    "for folder_name in folders:\n",
    "  if(folder_name != 'sport'):\n",
    "    subdirectory = documents_dir + '/' + folder_name\n",
    "    print(subdirectory)\n",
    "  \n",
    "  for file_path in subdirectory.files('*.txt'):\n",
    "      with file_path.open(mode='rt', encoding='utf-8') as fp:\n",
    "          documents.append(fp.readlines())\n",
    "\n",
    "print('LexRank...')\n",
    "lxr = LexRank(documents, stopwords=STOPWORDS['en'])"
   ]
  },
  {
   "cell_type": "code",
   "execution_count": null,
   "metadata": {
    "colab": {},
    "colab_type": "code",
    "id": "pKcr-F6P7t02"
   },
   "outputs": [],
   "source": [
    "genre.drop(columns=['song', 'artist', 'genre', 'lyrics'], inplace=True)\n",
    "genre.set_index('genre_encoded', inplace=True)"
   ]
  },
  {
   "cell_type": "code",
   "execution_count": null,
   "metadata": {
    "colab": {},
    "colab_type": "code",
    "id": "lfhId0WzK2Cn"
   },
   "outputs": [],
   "source": [
    "def create_summary(line):\n",
    "  \n",
    "  # get summary with continuous LexRank\n",
    "  summary = lxr.get_summary(line.values[0].split('\\n'), threshold=None)\n",
    "  \n",
    "  return summary[0]"
   ]
  },
  {
   "cell_type": "code",
   "execution_count": null,
   "metadata": {
    "colab": {
     "base_uri": "https://localhost:8080/",
     "height": 68
    },
    "colab_type": "code",
    "id": "dgjjt0NbWS6M",
    "outputId": "18d8ce6c-3f5a-4f05-b051-b7d47caad781"
   },
   "outputs": [],
   "source": [
    "print(\"Starting with Genre...\\n\\n\")\n",
    "genre_textrank = genre.apply( lambda line: create_summary(line), axis=1) "
   ]
  },
  {
   "cell_type": "code",
   "execution_count": null,
   "metadata": {
    "colab": {},
    "colab_type": "code",
    "id": "Es7HXiaqK2Ci"
   },
   "outputs": [],
   "source": [
    "genre_textrank = genre_textrank[genre_textrank.str.len() >= 25]\n",
    "\n",
    "genre_textrank.to_csv('/content/drive/My Drive/Models Running/Summarization/datasets/lex_rank/genre.tsv', sep='\\t', header=False, index_label=False)"
   ]
  }
 ],
 "metadata": {
  "accelerator": "GPU",
  "colab": {
   "collapsed_sections": [],
   "name": "LexRank.ipynb",
   "provenance": [],
   "toc_visible": true,
   "version": "0.3.2"
  },
  "kernelspec": {
   "display_name": "Python 3",
   "language": "python",
   "name": "python3"
  },
  "language_info": {
   "codemirror_mode": {
    "name": "ipython",
    "version": 3
   },
   "file_extension": ".py",
   "mimetype": "text/x-python",
   "name": "python",
   "nbconvert_exporter": "python",
   "pygments_lexer": "ipython3",
   "version": "3.7.3"
  }
 },
 "nbformat": 4,
 "nbformat_minor": 1
}
