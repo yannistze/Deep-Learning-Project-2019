{
 "cells": [
  {
   "cell_type": "code",
   "execution_count": null,
   "metadata": {
    "colab": {
     "base_uri": "https://localhost:8080/",
     "height": 565
    },
    "colab_type": "code",
    "id": "6-Rr4t6KwJJG",
    "outputId": "9b395f8d-849a-446c-8ae0-1e4082ae8f80"
   },
   "outputs": [],
   "source": [
    "! pip install --upgrade google-cloud-storage"
   ]
  },
  {
   "cell_type": "markdown",
   "metadata": {
    "colab_type": "text",
    "id": "nOngHFvfEmCO"
   },
   "source": [
    "# Data Warehousing Setup\n",
    "\n"
   ]
  },
  {
   "cell_type": "code",
   "execution_count": null,
   "metadata": {
    "colab": {
     "base_uri": "https://localhost:8080/",
     "height": 122
    },
    "colab_type": "code",
    "id": "UfHxbgwP4oEp",
    "outputId": "9ca4a0f3-0641-4f8e-b2e3-e57331da47fa"
   },
   "outputs": [],
   "source": [
    "# Mount Google Drive folder\n",
    "\n",
    "from google.colab import drive\n",
    "drive.mount('/content/drive', force_remount=True)"
   ]
  },
  {
   "cell_type": "code",
   "execution_count": null,
   "metadata": {
    "colab": {
     "base_uri": "https://localhost:8080/",
     "height": 34
    },
    "colab_type": "code",
    "id": "oCY70XRU3f41",
    "outputId": "aa1217a9-8ed4-4bc8-bcd7-c60d4e7f9cff"
   },
   "outputs": [],
   "source": [
    "# Add models repos and save space\n",
    "\n",
    "%cd  /content/drive/My Drive/Models Running"
   ]
  },
  {
   "cell_type": "code",
   "execution_count": null,
   "metadata": {
    "colab": {},
    "colab_type": "code",
    "id": "EfJGF35Sz1dN"
   },
   "outputs": [],
   "source": [
    "from google.colab import auth\n",
    "auth.authenticate_user()"
   ]
  },
  {
   "cell_type": "code",
   "execution_count": null,
   "metadata": {
    "colab": {
     "base_uri": "https://localhost:8080/",
     "height": 1000
    },
    "colab_type": "code",
    "id": "ajho1710zJG8",
    "outputId": "34951d2b-e1ac-400d-fa95-9f804eaca142"
   },
   "outputs": [],
   "source": [
    "# Download the files from the bucket to our Google Drive Project folder\n",
    "\n",
    "! gsutil -m cp -r gs://bertsum-bucket/bert_summary/* '/content/drive/My Drive/Models Running/Summarization/bert_summary'"
   ]
  },
  {
   "cell_type": "code",
   "execution_count": null,
   "metadata": {
    "colab": {
     "base_uri": "https://localhost:8080/",
     "height": 1000
    },
    "colab_type": "code",
    "id": "DriCb5M_18KI",
    "outputId": "5c1c3829-5c55-4bf5-bd82-f5e002163324"
   },
   "outputs": [],
   "source": [
    "# Create the Dataframe of Bert Summarized Lyrics for Genre problem\n",
    "\n",
    "import os\n",
    "import pandas as pd\n",
    "from tqdm import tqdm\n",
    "from pathlib import Path\n",
    "\n",
    "rootdir = '/content/drive/My Drive/Models Running/Summarization/bert_summary'\n",
    "\n",
    "# Iterate over the files inside the folders to compile the dataframe\n",
    "subdirectories = [os.path.join(rootdir, o) for o in os.listdir(rootdir) if os.path.isdir(os.path.join(rootdir,o))]\n",
    "\n",
    "progress_bar = tqdm(subdirectories)\n",
    "\n",
    "dataframe = pd.DataFrame()\n",
    "\n",
    "for subdir in progress_bar:\n",
    "  \n",
    "    filelist = Path(subdir).glob('*.candidate')\n",
    "  \n",
    "    for path in filelist:\n",
    "      \n",
    "      # because path is object not string\n",
    "      path_in_str = str(path)\n",
    "      \n",
    "      temp = pd.read_csv(path_in_str, header=None, sep='\\n')\n",
    "      temp['class'] = str(path_in_str.split('/')[-2])\n",
    "      \n",
    "      dataframe = pd.concat([dataframe, temp], axis=0, ignore_index=True, copy=True)"
   ]
  },
  {
   "cell_type": "code",
   "execution_count": null,
   "metadata": {
    "colab": {},
    "colab_type": "code",
    "id": "VpQNAa466cnd"
   },
   "outputs": [],
   "source": [
    "dataframe = dataframe[[dataframe.columns.to_list()[1], dataframe.columns.to_list()[0]]]\n",
    "\n",
    "dataframe.to_csv('genre_5_class.csv', index=False, header=False)"
   ]
  }
 ],
 "metadata": {
  "colab": {
   "collapsed_sections": [],
   "name": "bucket_download.ipynb",
   "provenance": [],
   "version": "0.3.2"
  },
  "kernelspec": {
   "display_name": "Python 3",
   "language": "python",
   "name": "python3"
  },
  "language_info": {
   "codemirror_mode": {
    "name": "ipython",
    "version": 3
   },
   "file_extension": ".py",
   "mimetype": "text/x-python",
   "name": "python",
   "nbconvert_exporter": "python",
   "pygments_lexer": "ipython3",
   "version": "3.7.3"
  }
 },
 "nbformat": 4,
 "nbformat_minor": 1
}
