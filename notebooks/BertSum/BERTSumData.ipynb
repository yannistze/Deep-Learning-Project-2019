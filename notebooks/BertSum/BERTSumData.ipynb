{
 "cells": [
  {
   "cell_type": "markdown",
   "metadata": {},
   "source": [
    "# Data Transformation Steps"
   ]
  },
  {
   "cell_type": "markdown",
   "metadata": {},
   "source": [
    "## Environment Setup"
   ]
  },
  {
   "cell_type": "code",
   "execution_count": null,
   "metadata": {
    "colab": {
     "base_uri": "https://localhost:8080/",
     "height": 34
    },
    "colab_type": "code",
    "id": "oCY70XRU3f41",
    "outputId": "41727fc4-3fd4-4896-f25b-8b14bde97787",
    "scrolled": true
   },
   "outputs": [],
   "source": [
    "# Go to data location\n",
    "\n",
    "%cd  ~/Desktop/DeepLearningProject/BertSum/raw_data"
   ]
  },
  {
   "cell_type": "code",
   "execution_count": null,
   "metadata": {
    "colab": {},
    "colab_type": "code",
    "id": "D0o0WOk_JIb5"
   },
   "outputs": [],
   "source": [
    "import os\n",
    "import pandas as pd\n",
    "\n",
    "import warnings\n",
    "warnings.filterwarnings(\"ignore\")\n",
    "\n",
    "genre = pd.read_csv('/content/drive/My Drive/Models Running/Summarization/datasets/genre_final_for_summarization.tsv', sep='\\t')"
   ]
  },
  {
   "cell_type": "code",
   "execution_count": null,
   "metadata": {
    "colab": {},
    "colab_type": "code",
    "id": "9mHKcZ_T8YwR"
   },
   "outputs": [],
   "source": [
    "genre.drop(columns=['song', 'artist', 'genre', 'lyrics'], inplace=True)\n",
    "\n",
    "genre.rename(columns={'genre_encoded': \"encoded\"}, inplace=True)"
   ]
  },
  {
   "cell_type": "code",
   "execution_count": null,
   "metadata": {
    "colab": {},
    "colab_type": "code",
    "id": "nRcUN8e0hnxJ"
   },
   "outputs": [],
   "source": [
    "def create_stories(line, folder):\n",
    "  \n",
    "  path = '/content/drive/My Drive/Models Running/BertSum/raw_data/'+ folder + '/' + str(line['encoded'])\n",
    "\n",
    "  if not os.path.exists(path):\n",
    "    os.makedirs(path)\n",
    "  \n",
    "  path += '/' + str(line.name) + '.story'\n",
    "  \n",
    "  file = open(path,\"w\") \n",
    "  file.writelines(line['lyrics_nchar']) \n",
    "  file.close() "
   ]
  },
  {
   "cell_type": "code",
   "execution_count": null,
   "metadata": {
    "colab": {
     "base_uri": "https://localhost:8080/",
     "height": 68
    },
    "colab_type": "code",
    "id": "9kJbYU6GEyBJ",
    "outputId": "eb4d789b-7451-4f8a-c332-8a23a4098148"
   },
   "outputs": [],
   "source": [
    "print(\"Starting with Genre...\\n\\n\")\n",
    "dummy = genre.apply(lambda line: create_stories(line, 'genre'), axis=1)"
   ]
  },
  {
   "cell_type": "code",
   "execution_count": null,
   "metadata": {
    "colab": {},
    "colab_type": "code",
    "id": "uhsVUSvfCqEP",
    "scrolled": true
   },
   "outputs": [],
   "source": [
    "# Insert needed path dependency\n",
    "\n",
    "os.environ['CLASSPATH'] = '/Users/johntzemos/Desktop/DeepLearningProject/BertSum/stanford-corenlp-full-2018-10-05/stanford-corenlp-3.9.2.jar'"
   ]
  },
  {
   "cell_type": "code",
   "execution_count": null,
   "metadata": {
    "colab": {
     "base_uri": "https://localhost:8080/",
     "height": 34
    },
    "colab_type": "code",
    "id": "6gA8MPrJL-na",
    "outputId": "f0a8001b-e632-4f12-86ed-531b406beee1"
   },
   "outputs": [],
   "source": [
    "# Move to the BertSum source folder to begin transforming the data\n",
    "\n",
    "%cd /Users/johntzemos/Desktop/DeepLearningProject/BertSum/src"
   ]
  },
  {
   "cell_type": "code",
   "execution_count": null,
   "metadata": {
    "colab": {
     "base_uri": "https://localhost:8080/",
     "height": 870
    },
    "colab_type": "code",
    "id": "Q6Wv35XkMV1R",
    "outputId": "1438e5c5-d22a-425a-f2aa-b5ad913cfd10"
   },
   "outputs": [],
   "source": [
    "# Install Needed Packages\n",
    "\n",
    "! pip install pytorch_pretrained_bert\n",
    "! pip install tensorboardX\n",
    "! pip install pyrouge\n",
    "! pip install multiprocess "
   ]
  },
  {
   "cell_type": "code",
   "execution_count": null,
   "metadata": {
    "colab": {},
    "colab_type": "code",
    "id": "XdClkYHzNSx4"
   },
   "outputs": [],
   "source": [
    "import sys\n",
    "# Add the home directory to sys.path\n",
    "sys.path.append('~/Desktop/DeepLearningProject/BertSum/src')\n",
    "sys.path.append('~/Desktop/DeepLearningProject/BertSum/src/prepro')\n",
    "\n",
    "from tqdm import tqdm"
   ]
  },
  {
   "cell_type": "markdown",
   "metadata": {},
   "source": [
    "# Step 1 - Sentence Splitting and Tokenization"
   ]
  },
  {
   "cell_type": "code",
   "execution_count": null,
   "metadata": {
    "colab": {},
    "colab_type": "code",
    "id": "B-Sd4omFIjLk"
   },
   "outputs": [],
   "source": [
    "rootdir = '/content/drive/My Drive/Models Running/BertSum/raw_data/genre'\n",
    "\n",
    "subdirectories = [os.path.join(rootdir, o) for o in os.listdir(rootdir) if os.path.isdir(os.path.join(rootdir,o))]\n",
    "\n",
    "for subdir in subdirectories:\n",
    "  \n",
    "  save_path = '/content/drive/My Drive/Models Running/BertSum/raw_data/genre_tokenized/' + subdir.split('/')[-1]\n",
    "  \n",
    "  if not os.path.exists(save_path):\n",
    "    os.makedirs(save_path)\n",
    "      \n",
    "  os.system(\"! python preprocess.py -mode tokenize -raw_path '\" + subdir + \"' -save_path '\" + save_path + \"' -log_file '/content/drive/My Drive/Models Running/BertSum/logs/genre.log'\")"
   ]
  },
  {
   "cell_type": "markdown",
   "metadata": {},
   "source": [
    "# Step 2 - Format to Simpler Json Files"
   ]
  },
  {
   "cell_type": "code",
   "execution_count": null,
   "metadata": {
    "colab": {},
    "colab_type": "code",
    "id": "u4Lafg-s-B1V",
    "scrolled": true
   },
   "outputs": [],
   "source": [
    "from data_builder import load_json\n",
    "from pathlib import Path\n",
    "\n",
    "import json\n",
    "\n",
    "rootdir = '~/Desktop/DeepLearningProject/BertSum/raw_data/genre_tokenized'\n",
    "\n",
    "subdirectories = [os.path.join(rootdir, o) for o in os.listdir(rootdir) if os.path.isdir(os.path.join(rootdir,o))]\n",
    "\n",
    "progress_bar = tqdm(subdirectories)\n",
    "\n",
    "for subdir in progress_bar:\n",
    "  \n",
    "  save_path = '~/Desktop/DeepLearningProject/BertSum/raw_data/genre_json/' + subdir.split('/')[-1]\n",
    "  \n",
    "  if not os.path.exists(save_path):\n",
    "    os.makedirs(save_path)\n",
    "  \n",
    "  filelist = Path(subdir).glob('*.json')\n",
    "  \n",
    "  for path in filelist:\n",
    "    \n",
    "    # because path is object not string\n",
    "    path_in_str = str(path)\n",
    "\n",
    "    source, tgt = load_json(path_in_str, 'lower')\n",
    "    \n",
    "    format_to_save = {'src': source, 'tgt': tgt}\n",
    "    file_num = path_in_str.split('/')[-1].split('.')[0]\n",
    "    \n",
    "    pt_file = \"{:s}/{:s}.{:s}.{:s}.json\".format(save_path, 'story', 'test', file_num)\n",
    "    pc_t +=1\n",
    "    with open(pt_file, 'w') as save:\n",
    "      \n",
    "        save.write(json.dumps(format_to_save))\n",
    " "
   ]
  },
  {
   "cell_type": "markdown",
   "metadata": {},
   "source": [
    "# Step 3 - Format to PyTorch Files"
   ]
  },
  {
   "cell_type": "code",
   "execution_count": null,
   "metadata": {
    "colab": {},
    "colab_type": "code",
    "id": "nFzDaVIatsek",
    "scrolled": true
   },
   "outputs": [],
   "source": [
    "rootdir = '~/Desktop/DeepLearningProject/BertSum/raw_data/genre_json'\n",
    "\n",
    "subdirectories = [os.path.join(rootdir, o) for o in os.listdir(rootdir) if os.path.isdir(os.path.join(rootdir,o))]\n",
    "\n",
    "progress_bar = tqdm(subdirectories)\n",
    "\n",
    "for subdir in progress_bar:\n",
    "  \n",
    "    save_path = '~/Desktop/DeepLearningProject/BertSum/raw_data/genre_bert/' + subdir.split('/')[-1]\n",
    "\n",
    "    if not os.path.exists(save_path):\n",
    "        os.makedirs(save_path)\n",
    "\n",
    "    os.system(\"! python preprocess.py -mode format_to_bert -dataset test -raw_path '\" + subdir + \"' -save_path '\" + save_path + \"' -oracle_mode greedy -n_cpus 4 -log_file ~/Desktop/DeepLearningProject/BertSum/logs/preprocess.log\")"
   ]
  }
 ],
 "metadata": {
  "accelerator": "GPU",
  "colab": {
   "collapsed_sections": [],
   "name": "BertSumData.ipynb",
   "provenance": [],
   "toc_visible": true,
   "version": "0.3.2"
  },
  "kernelspec": {
   "display_name": "Python 3",
   "language": "python",
   "name": "python3"
  },
  "language_info": {
   "codemirror_mode": {
    "name": "ipython",
    "version": 3
   },
   "file_extension": ".py",
   "mimetype": "text/x-python",
   "name": "python",
   "nbconvert_exporter": "python",
   "pygments_lexer": "ipython3",
   "version": "3.7.3"
  }
 },
 "nbformat": 4,
 "nbformat_minor": 1
}
