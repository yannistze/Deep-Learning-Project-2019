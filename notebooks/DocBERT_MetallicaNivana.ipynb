{
  "nbformat": 4,
  "nbformat_minor": 0,
  "metadata": {
    "colab": {
      "name": "DocBERT_MetallicaNivana.ipynb",
      "version": "0.3.2",
      "provenance": [],
      "toc_visible": true,
      "include_colab_link": true
    },
    "kernelspec": {
      "name": "python3",
      "display_name": "Python 3"
    },
    "accelerator": "GPU"
  },
  "cells": [
    {
      "cell_type": "markdown",
      "metadata": {
        "id": "view-in-github",
        "colab_type": "text"
      },
      "source": [
        "<a href=\"https://colab.research.google.com/github/yannistze/Deep-Learning-Project/blob/master/notebooks/DocBERT_MetallicaNivana.ipynb\" target=\"_parent\"><img src=\"https://colab.research.google.com/assets/colab-badge.svg\" alt=\"Open In Colab\"/></a>"
      ]
    },
    {
      "cell_type": "code",
      "metadata": {
        "id": "4hs3GFiu0-Rg",
        "colab_type": "code",
        "colab": {}
      },
      "source": [
        "import nltk"
      ],
      "execution_count": 0,
      "outputs": []
    },
    {
      "cell_type": "markdown",
      "metadata": {
        "id": "ZmuaVy2e3I_a",
        "colab_type": "text"
      },
      "source": [
        "# Perform All Setup Actions"
      ]
    },
    {
      "cell_type": "code",
      "metadata": {
        "id": "rwS_iCKu1KIp",
        "colab_type": "code",
        "outputId": "231390b5-473c-4342-f6d7-8f1567a1a0cd",
        "colab": {
          "base_uri": "https://localhost:8080/",
          "height": 1000
        }
      },
      "source": [
        "nltk.download('all-corpora')"
      ],
      "execution_count": 2,
      "outputs": [
        {
          "output_type": "stream",
          "text": [
            "[nltk_data] Downloading collection 'all-corpora'\n",
            "[nltk_data]    | \n",
            "[nltk_data]    | Downloading package abc to /root/nltk_data...\n",
            "[nltk_data]    |   Package abc is already up-to-date!\n",
            "[nltk_data]    | Downloading package alpino to /root/nltk_data...\n",
            "[nltk_data]    |   Package alpino is already up-to-date!\n",
            "[nltk_data]    | Downloading package biocreative_ppi to\n",
            "[nltk_data]    |     /root/nltk_data...\n",
            "[nltk_data]    |   Package biocreative_ppi is already up-to-date!\n",
            "[nltk_data]    | Downloading package brown to /root/nltk_data...\n",
            "[nltk_data]    |   Package brown is already up-to-date!\n",
            "[nltk_data]    | Downloading package brown_tei to /root/nltk_data...\n",
            "[nltk_data]    |   Package brown_tei is already up-to-date!\n",
            "[nltk_data]    | Downloading package cess_cat to /root/nltk_data...\n",
            "[nltk_data]    |   Package cess_cat is already up-to-date!\n",
            "[nltk_data]    | Downloading package cess_esp to /root/nltk_data...\n",
            "[nltk_data]    |   Package cess_esp is already up-to-date!\n",
            "[nltk_data]    | Downloading package chat80 to /root/nltk_data...\n",
            "[nltk_data]    |   Package chat80 is already up-to-date!\n",
            "[nltk_data]    | Downloading package city_database to\n",
            "[nltk_data]    |     /root/nltk_data...\n",
            "[nltk_data]    |   Package city_database is already up-to-date!\n",
            "[nltk_data]    | Downloading package cmudict to /root/nltk_data...\n",
            "[nltk_data]    |   Package cmudict is already up-to-date!\n",
            "[nltk_data]    | Downloading package comtrans to /root/nltk_data...\n",
            "[nltk_data]    |   Package comtrans is already up-to-date!\n",
            "[nltk_data]    | Downloading package conll2000 to /root/nltk_data...\n",
            "[nltk_data]    |   Package conll2000 is already up-to-date!\n",
            "[nltk_data]    | Downloading package conll2002 to /root/nltk_data...\n",
            "[nltk_data]    |   Package conll2002 is already up-to-date!\n",
            "[nltk_data]    | Downloading package conll2007 to /root/nltk_data...\n",
            "[nltk_data]    |   Package conll2007 is already up-to-date!\n",
            "[nltk_data]    | Downloading package crubadan to /root/nltk_data...\n",
            "[nltk_data]    |   Package crubadan is already up-to-date!\n",
            "[nltk_data]    | Downloading package dependency_treebank to\n",
            "[nltk_data]    |     /root/nltk_data...\n",
            "[nltk_data]    |   Package dependency_treebank is already up-to-date!\n",
            "[nltk_data]    | Downloading package dolch to /root/nltk_data...\n",
            "[nltk_data]    |   Package dolch is already up-to-date!\n",
            "[nltk_data]    | Downloading package floresta to /root/nltk_data...\n",
            "[nltk_data]    |   Package floresta is already up-to-date!\n",
            "[nltk_data]    | Downloading package framenet_v15 to\n",
            "[nltk_data]    |     /root/nltk_data...\n",
            "[nltk_data]    |   Package framenet_v15 is already up-to-date!\n",
            "[nltk_data]    | Downloading package framenet_v17 to\n",
            "[nltk_data]    |     /root/nltk_data...\n",
            "[nltk_data]    |   Package framenet_v17 is already up-to-date!\n",
            "[nltk_data]    | Downloading package gazetteers to /root/nltk_data...\n",
            "[nltk_data]    |   Package gazetteers is already up-to-date!\n",
            "[nltk_data]    | Downloading package genesis to /root/nltk_data...\n",
            "[nltk_data]    |   Package genesis is already up-to-date!\n",
            "[nltk_data]    | Downloading package gutenberg to /root/nltk_data...\n",
            "[nltk_data]    |   Package gutenberg is already up-to-date!\n",
            "[nltk_data]    | Downloading package ieer to /root/nltk_data...\n",
            "[nltk_data]    |   Package ieer is already up-to-date!\n",
            "[nltk_data]    | Downloading package inaugural to /root/nltk_data...\n",
            "[nltk_data]    |   Package inaugural is already up-to-date!\n",
            "[nltk_data]    | Downloading package indian to /root/nltk_data...\n",
            "[nltk_data]    |   Package indian is already up-to-date!\n",
            "[nltk_data]    | Downloading package jeita to /root/nltk_data...\n",
            "[nltk_data]    |   Package jeita is already up-to-date!\n",
            "[nltk_data]    | Downloading package kimmo to /root/nltk_data...\n",
            "[nltk_data]    |   Package kimmo is already up-to-date!\n",
            "[nltk_data]    | Downloading package knbc to /root/nltk_data...\n",
            "[nltk_data]    |   Package knbc is already up-to-date!\n",
            "[nltk_data]    | Downloading package lin_thesaurus to\n",
            "[nltk_data]    |     /root/nltk_data...\n",
            "[nltk_data]    |   Package lin_thesaurus is already up-to-date!\n",
            "[nltk_data]    | Downloading package mac_morpho to /root/nltk_data...\n",
            "[nltk_data]    |   Package mac_morpho is already up-to-date!\n",
            "[nltk_data]    | Downloading package machado to /root/nltk_data...\n",
            "[nltk_data]    |   Package machado is already up-to-date!\n",
            "[nltk_data]    | Downloading package masc_tagged to /root/nltk_data...\n",
            "[nltk_data]    |   Package masc_tagged is already up-to-date!\n",
            "[nltk_data]    | Downloading package movie_reviews to\n",
            "[nltk_data]    |     /root/nltk_data...\n",
            "[nltk_data]    |   Package movie_reviews is already up-to-date!\n",
            "[nltk_data]    | Downloading package names to /root/nltk_data...\n",
            "[nltk_data]    |   Package names is already up-to-date!\n",
            "[nltk_data]    | Downloading package nombank.1.0 to /root/nltk_data...\n",
            "[nltk_data]    |   Package nombank.1.0 is already up-to-date!\n",
            "[nltk_data]    | Downloading package nps_chat to /root/nltk_data...\n",
            "[nltk_data]    |   Package nps_chat is already up-to-date!\n",
            "[nltk_data]    | Downloading package omw to /root/nltk_data...\n",
            "[nltk_data]    |   Package omw is already up-to-date!\n",
            "[nltk_data]    | Downloading package paradigms to /root/nltk_data...\n",
            "[nltk_data]    |   Package paradigms is already up-to-date!\n",
            "[nltk_data]    | Downloading package pil to /root/nltk_data...\n",
            "[nltk_data]    |   Package pil is already up-to-date!\n",
            "[nltk_data]    | Downloading package pl196x to /root/nltk_data...\n",
            "[nltk_data]    |   Package pl196x is already up-to-date!\n",
            "[nltk_data]    | Downloading package ppattach to /root/nltk_data...\n",
            "[nltk_data]    |   Package ppattach is already up-to-date!\n",
            "[nltk_data]    | Downloading package problem_reports to\n",
            "[nltk_data]    |     /root/nltk_data...\n",
            "[nltk_data]    |   Package problem_reports is already up-to-date!\n",
            "[nltk_data]    | Downloading package propbank to /root/nltk_data...\n",
            "[nltk_data]    |   Package propbank is already up-to-date!\n",
            "[nltk_data]    | Downloading package ptb to /root/nltk_data...\n",
            "[nltk_data]    |   Package ptb is already up-to-date!\n",
            "[nltk_data]    | Downloading package qc to /root/nltk_data...\n",
            "[nltk_data]    |   Package qc is already up-to-date!\n",
            "[nltk_data]    | Downloading package reuters to /root/nltk_data...\n",
            "[nltk_data]    |   Package reuters is already up-to-date!\n",
            "[nltk_data]    | Downloading package rte to /root/nltk_data...\n",
            "[nltk_data]    |   Package rte is already up-to-date!\n",
            "[nltk_data]    | Downloading package semcor to /root/nltk_data...\n",
            "[nltk_data]    |   Package semcor is already up-to-date!\n",
            "[nltk_data]    | Downloading package senseval to /root/nltk_data...\n",
            "[nltk_data]    |   Package senseval is already up-to-date!\n",
            "[nltk_data]    | Downloading package sentiwordnet to\n",
            "[nltk_data]    |     /root/nltk_data...\n",
            "[nltk_data]    |   Package sentiwordnet is already up-to-date!\n",
            "[nltk_data]    | Downloading package shakespeare to /root/nltk_data...\n",
            "[nltk_data]    |   Package shakespeare is already up-to-date!\n",
            "[nltk_data]    | Downloading package sinica_treebank to\n",
            "[nltk_data]    |     /root/nltk_data...\n",
            "[nltk_data]    |   Package sinica_treebank is already up-to-date!\n",
            "[nltk_data]    | Downloading package state_union to /root/nltk_data...\n",
            "[nltk_data]    |   Package state_union is already up-to-date!\n",
            "[nltk_data]    | Downloading package stopwords to /root/nltk_data...\n",
            "[nltk_data]    |   Package stopwords is already up-to-date!\n",
            "[nltk_data]    | Downloading package swadesh to /root/nltk_data...\n",
            "[nltk_data]    |   Package swadesh is already up-to-date!\n",
            "[nltk_data]    | Downloading package switchboard to /root/nltk_data...\n",
            "[nltk_data]    |   Package switchboard is already up-to-date!\n",
            "[nltk_data]    | Downloading package timit to /root/nltk_data...\n",
            "[nltk_data]    |   Package timit is already up-to-date!\n",
            "[nltk_data]    | Downloading package toolbox to /root/nltk_data...\n",
            "[nltk_data]    |   Package toolbox is already up-to-date!\n",
            "[nltk_data]    | Downloading package treebank to /root/nltk_data...\n",
            "[nltk_data]    |   Package treebank is already up-to-date!\n",
            "[nltk_data]    | Downloading package udhr to /root/nltk_data...\n",
            "[nltk_data]    |   Package udhr is already up-to-date!\n",
            "[nltk_data]    | Downloading package udhr2 to /root/nltk_data...\n",
            "[nltk_data]    |   Package udhr2 is already up-to-date!\n",
            "[nltk_data]    | Downloading package unicode_samples to\n",
            "[nltk_data]    |     /root/nltk_data...\n",
            "[nltk_data]    |   Package unicode_samples is already up-to-date!\n",
            "[nltk_data]    | Downloading package universal_treebanks_v20 to\n",
            "[nltk_data]    |     /root/nltk_data...\n",
            "[nltk_data]    |   Package universal_treebanks_v20 is already up-to-\n",
            "[nltk_data]    |       date!\n",
            "[nltk_data]    | Downloading package verbnet to /root/nltk_data...\n",
            "[nltk_data]    |   Package verbnet is already up-to-date!\n",
            "[nltk_data]    | Downloading package verbnet3 to /root/nltk_data...\n",
            "[nltk_data]    |   Package verbnet3 is already up-to-date!\n",
            "[nltk_data]    | Downloading package webtext to /root/nltk_data...\n",
            "[nltk_data]    |   Package webtext is already up-to-date!\n",
            "[nltk_data]    | Downloading package wordnet to /root/nltk_data...\n",
            "[nltk_data]    |   Package wordnet is already up-to-date!\n",
            "[nltk_data]    | Downloading package wordnet_ic to /root/nltk_data...\n",
            "[nltk_data]    |   Package wordnet_ic is already up-to-date!\n",
            "[nltk_data]    | Downloading package words to /root/nltk_data...\n",
            "[nltk_data]    |   Package words is already up-to-date!\n",
            "[nltk_data]    | Downloading package ycoe to /root/nltk_data...\n",
            "[nltk_data]    |   Package ycoe is already up-to-date!\n",
            "[nltk_data]    | Downloading package panlex_swadesh to\n",
            "[nltk_data]    |     /root/nltk_data...\n",
            "[nltk_data]    |   Package panlex_swadesh is already up-to-date!\n",
            "[nltk_data]    | Downloading package mte_teip5 to /root/nltk_data...\n",
            "[nltk_data]    |   Package mte_teip5 is already up-to-date!\n",
            "[nltk_data]    | Downloading package nonbreaking_prefixes to\n",
            "[nltk_data]    |     /root/nltk_data...\n",
            "[nltk_data]    |   Package nonbreaking_prefixes is already up-to-date!\n",
            "[nltk_data]    | \n",
            "[nltk_data]  Done downloading collection all-corpora\n"
          ],
          "name": "stdout"
        },
        {
          "output_type": "execute_result",
          "data": {
            "text/plain": [
              "True"
            ]
          },
          "metadata": {
            "tags": []
          },
          "execution_count": 2
        }
      ]
    },
    {
      "cell_type": "code",
      "metadata": {
        "id": "M3CskxO-58xP",
        "colab_type": "code",
        "outputId": "070ee077-9426-4872-d015-10397add6b2e",
        "colab": {
          "base_uri": "https://localhost:8080/",
          "height": 158
        }
      },
      "source": [
        "# Add the hedwig repo - test the learning curves\n",
        "%cd  /content\n",
        "! rm -rf hedwig\n",
        "!git clone -b tqdm_fix --single-branch https://github.com/j-cahill/hedwig.git\n",
        "# ! git clone https://github.com/j-cahill/hedwig.git"
      ],
      "execution_count": 73,
      "outputs": [
        {
          "output_type": "stream",
          "text": [
            "/content\n",
            "Cloning into 'hedwig'...\n",
            "remote: Enumerating objects: 140, done.\u001b[K\n",
            "remote: Counting objects: 100% (140/140), done.\u001b[K\n",
            "remote: Compressing objects: 100% (99/99), done.\u001b[K\n",
            "remote: Total 2062 (delta 80), reused 78 (delta 41), pack-reused 1922\u001b[K\n",
            "Receiving objects: 100% (2062/2062), 1.32 MiB | 9.49 MiB/s, done.\n",
            "Resolving deltas: 100% (1171/1171), done.\n"
          ],
          "name": "stdout"
        }
      ]
    },
    {
      "cell_type": "code",
      "metadata": {
        "id": "_5SheQEk3agv",
        "colab_type": "code",
        "outputId": "df13725f-a807-4409-ef48-7ce12a2a840b",
        "colab": {
          "base_uri": "https://localhost:8080/",
          "height": 34
        }
      },
      "source": [
        "# fetch the hedwig data\n",
        "! git clone https://git.uwaterloo.ca/jimmylin/hedwig-data.git"
      ],
      "execution_count": 23,
      "outputs": [
        {
          "output_type": "stream",
          "text": [
            "fatal: destination path 'hedwig-data' already exists and is not an empty directory.\n"
          ],
          "name": "stdout"
        }
      ]
    },
    {
      "cell_type": "code",
      "metadata": {
        "id": "Hzkv1wx23lM0",
        "colab_type": "code",
        "outputId": "42f15927-337f-4766-cf4a-73479b9d8d61",
        "colab": {
          "base_uri": "https://localhost:8080/",
          "height": 107
        }
      },
      "source": [
        "# unzip embeddings and run preporcessing\n",
        "%cd /content/hedwig-data/embeddings/word2vec\n",
        "! gzip -d GoogleNews-vectors-negative300.bin.gz \n",
        "! python bin2txt.py GoogleNews-vectors-negative300.bin GoogleNews-vectors-negative300.txt "
      ],
      "execution_count": 6,
      "outputs": [
        {
          "output_type": "stream",
          "text": [
            "/content/hedwig-data/embeddings/word2vec\n",
            "/usr/local/lib/python3.6/dist-packages/smart_open/smart_open_lib.py:398: UserWarning: This function is deprecated, use smart_open.open instead. See the migration notes for details: https://github.com/RaRe-Technologies/smart_open/blob/master/README.rst#migrating-to-the-new-open-function\n",
            "  'See the migration notes for details: %s' % _MIGRATION_NOTES_URL\n",
            "tcmalloc: large alloc 3600007168 bytes == 0x3a9a000 @  0x7f431bf59001 0x7f431896fde5 0x7f43189d46f1 0x7f43189d67cf 0x7f4318a6f158 0x4f8925 0x4fa6c0 0x4f6128 0x4f7d60 0x4f876d 0x4fa6c0 0x4f6128 0x4f7d60 0x4f876d 0x4fa6c0 0x4f6128 0x4f9023 0x6415b2 0x64166a 0x643730 0x62b26e 0x4b4cb0 0x7f431bb54b97 0x5bdf6a\n"
          ],
          "name": "stdout"
        }
      ]
    },
    {
      "cell_type": "code",
      "metadata": {
        "id": "hulBV0KBNbGY",
        "colab_type": "code",
        "outputId": "01daa664-8e28-4a4c-f807-4c7ac8e8b41e",
        "colab": {
          "base_uri": "https://localhost:8080/",
          "height": 34
        }
      },
      "source": [
        "%cd /content/hedwig-data/datasets\n",
        "! rm -rf Lyrics\n",
        "! mkdir Lyrics\n",
        "\n",
        "# After this we manually upload lyric datasets"
      ],
      "execution_count": 36,
      "outputs": [
        {
          "output_type": "stream",
          "text": [
            "/content/hedwig-data/datasets\n"
          ],
          "name": "stdout"
        }
      ]
    },
    {
      "cell_type": "code",
      "metadata": {
        "id": "ZoKhLEbBHbiM",
        "colab_type": "code",
        "colab": {}
      },
      "source": [
        "# for sst-2\n",
        "\n",
        "%cd /content/hedwig-data/datasets/SST-2/data\n",
        "! mv dev.tsv test.tsv train.tsv ../"
      ],
      "execution_count": 0,
      "outputs": []
    },
    {
      "cell_type": "markdown",
      "metadata": {
        "id": "bRXILRVH94Xe",
        "colab_type": "text"
      },
      "source": [
        "# Metallica and Nirvana Bert Model\n",
        "\n",
        "203 records, for comparison with the Naiive Baye's method."
      ]
    },
    {
      "cell_type": "code",
      "metadata": {
        "id": "tG6LGnpCCthD",
        "colab_type": "code",
        "outputId": "0840a284-7363-4b6f-eaa2-75967e5375a5",
        "colab": {
          "base_uri": "https://localhost:8080/",
          "height": 34
        }
      },
      "source": [
        "%cd /content/hedwig"
      ],
      "execution_count": 74,
      "outputs": [
        {
          "output_type": "stream",
          "text": [
            "/content/hedwig\n"
          ],
          "name": "stdout"
        }
      ]
    },
    {
      "cell_type": "code",
      "metadata": {
        "id": "f_lTZf4t5BUU",
        "colab_type": "code",
        "outputId": "f6ead29d-9575-4b95-a608-39df60d2c01a",
        "colab": {
          "base_uri": "https://localhost:8080/",
          "height": 1000
        }
      },
      "source": [
        "! python -m models.bert --dataset Lyrics --model bert-base-uncased --max-seq-length 256 --batch-size 4 --lr 2e-5 --epochs 2 --seed 42 > results.txt"
      ],
      "execution_count": 76,
      "outputs": [
        {
          "output_type": "stream",
          "text": [
            "Epoch:   0% 0/2 [00:00<?, ?it/s]\n",
            "Training:   0% 0/41 [00:00<?, ?it/s]\u001b[A\n",
            "Training:   2% 1/41 [00:00<00:15,  2.61it/s]\u001b[A\n",
            "Training:   5% 2/41 [00:00<00:13,  2.85it/s]\u001b[A\n",
            "Training:   7% 3/41 [00:00<00:12,  3.04it/s]\u001b[A\n",
            "Training:  10% 4/41 [00:01<00:11,  3.19it/s]\u001b[A\n",
            "Training:  12% 5/41 [00:01<00:10,  3.31it/s]\u001b[A\n",
            "Training:  15% 6/41 [00:01<00:10,  3.41it/s]\u001b[A\n",
            "Training:  17% 7/41 [00:02<00:09,  3.47it/s]\u001b[A\n",
            "Training:  20% 8/41 [00:02<00:09,  3.49it/s]\u001b[A\n",
            "Training:  22% 9/41 [00:02<00:09,  3.52it/s]\u001b[A\n",
            "Training:  24% 10/41 [00:02<00:08,  3.55it/s]\u001b[A\n",
            "Training:  27% 11/41 [00:03<00:08,  3.57it/s]\u001b[A\n",
            "Training:  29% 12/41 [00:03<00:08,  3.53it/s]\u001b[A\n",
            "Training:  32% 13/41 [00:03<00:07,  3.54it/s]\u001b[A\n",
            "Training:  34% 14/41 [00:03<00:07,  3.57it/s]\u001b[A\n",
            "Training:  37% 15/41 [00:04<00:07,  3.57it/s]\u001b[A\n",
            "Training:  39% 16/41 [00:04<00:06,  3.58it/s]\u001b[A\n",
            "Training:  41% 17/41 [00:04<00:06,  3.57it/s]\u001b[A\n",
            "Training:  44% 18/41 [00:05<00:06,  3.59it/s]\u001b[A\n",
            "Training:  46% 19/41 [00:05<00:06,  3.59it/s]\u001b[A\n",
            "Training:  49% 20/41 [00:05<00:05,  3.58it/s]\u001b[A\n",
            "Training:  51% 21/41 [00:05<00:05,  3.56it/s]\u001b[A\n",
            "Training:  54% 22/41 [00:06<00:05,  3.57it/s]\u001b[A\n",
            "Training:  56% 23/41 [00:06<00:05,  3.55it/s]\u001b[A\n",
            "Training:  59% 24/41 [00:06<00:04,  3.57it/s]\u001b[A\n",
            "Training:  61% 25/41 [00:07<00:04,  3.57it/s]\u001b[A\n",
            "Training:  63% 26/41 [00:07<00:04,  3.57it/s]\u001b[A\n",
            "Training:  66% 27/41 [00:07<00:03,  3.59it/s]\u001b[A\n",
            "Training:  68% 28/41 [00:07<00:03,  3.58it/s]\u001b[A\n",
            "Training:  71% 29/41 [00:08<00:03,  3.59it/s]\u001b[A\n",
            "Training:  73% 30/41 [00:08<00:03,  3.57it/s]\u001b[A\n",
            "Training:  76% 31/41 [00:08<00:02,  3.58it/s]\u001b[A\n",
            "Training:  78% 32/41 [00:09<00:02,  3.58it/s]\u001b[A\n",
            "Training:  80% 33/41 [00:09<00:02,  3.59it/s]\u001b[A\n",
            "Training:  83% 34/41 [00:09<00:01,  3.55it/s]\u001b[A\n",
            "Training:  85% 35/41 [00:09<00:01,  3.60it/s]\u001b[A\n",
            "Training:  88% 36/41 [00:10<00:01,  3.59it/s]\u001b[A\n",
            "Training:  90% 37/41 [00:10<00:01,  3.59it/s]\u001b[A\n",
            "Training:  93% 38/41 [00:10<00:00,  3.57it/s]\u001b[A\n",
            "Training:  95% 39/41 [00:10<00:00,  3.56it/s]\u001b[A\n",
            "Training:  98% 40/41 [00:11<00:00,  3.58it/s]\u001b[A\n",
            "Training: 100% 41/41 [00:11<00:00,  4.02it/s]\u001b[A\n",
            "\u001b[A\n",
            "Evaluating:   0% 0/5 [00:00<?, ?it/s]\u001b[A\n",
            "Evaluating:  40% 2/5 [00:00<00:00, 15.72it/s]\u001b[A\n",
            "Evaluating:  80% 4/5 [00:00<00:00, 15.40it/s]\u001b[A\n",
            "Epoch:  50% 1/2 [00:12<00:12, 12.93s/it]\n",
            "Training:   0% 0/41 [00:00<?, ?it/s]\u001b[A\n",
            "Training:   2% 1/41 [00:00<00:12,  3.25it/s]\u001b[A\n",
            "Training:   5% 2/41 [00:00<00:11,  3.31it/s]\u001b[A\n",
            "Training:   7% 3/41 [00:00<00:11,  3.35it/s]\u001b[A\n",
            "Training:  10% 4/41 [00:01<00:10,  3.42it/s]\u001b[A\n",
            "Training:  12% 5/41 [00:01<00:10,  3.47it/s]\u001b[A\n",
            "Training:  15% 6/41 [00:01<00:10,  3.49it/s]\u001b[A\n",
            "Training:  17% 7/41 [00:02<00:09,  3.50it/s]\u001b[A\n",
            "Training:  20% 8/41 [00:02<00:09,  3.50it/s]\u001b[A\n",
            "Training:  22% 9/41 [00:02<00:09,  3.54it/s]\u001b[A\n",
            "Training:  24% 10/41 [00:02<00:08,  3.52it/s]\u001b[A\n",
            "Training:  27% 11/41 [00:03<00:08,  3.52it/s]\u001b[A\n",
            "Training:  29% 12/41 [00:03<00:08,  3.54it/s]\u001b[A\n",
            "Training:  32% 13/41 [00:03<00:07,  3.53it/s]\u001b[A\n",
            "Training:  34% 14/41 [00:03<00:07,  3.55it/s]\u001b[A\n",
            "Training:  37% 15/41 [00:04<00:07,  3.55it/s]\u001b[A\n",
            "Training:  39% 16/41 [00:04<00:07,  3.54it/s]\u001b[A\n",
            "Training:  41% 17/41 [00:04<00:06,  3.53it/s]\u001b[A\n",
            "Training:  44% 18/41 [00:05<00:06,  3.56it/s]\u001b[A\n",
            "Training:  46% 19/41 [00:05<00:06,  3.56it/s]\u001b[A\n",
            "Training:  49% 20/41 [00:05<00:05,  3.55it/s]\u001b[A\n",
            "Training:  51% 21/41 [00:05<00:05,  3.51it/s]\u001b[A\n",
            "Training:  54% 22/41 [00:06<00:05,  3.50it/s]\u001b[A\n",
            "Training:  56% 23/41 [00:06<00:05,  3.50it/s]\u001b[A\n",
            "Training:  59% 24/41 [00:06<00:04,  3.53it/s]\u001b[A\n",
            "Training:  61% 25/41 [00:07<00:04,  3.57it/s]\u001b[A\n",
            "Training:  63% 26/41 [00:07<00:04,  3.54it/s]\u001b[A\n",
            "Training:  66% 27/41 [00:07<00:03,  3.52it/s]\u001b[A\n",
            "Training:  68% 28/41 [00:07<00:03,  3.53it/s]\u001b[A\n",
            "Training:  71% 29/41 [00:08<00:03,  3.54it/s]\u001b[A\n",
            "Training:  73% 30/41 [00:08<00:03,  3.55it/s]\u001b[A\n",
            "Training:  76% 31/41 [00:08<00:02,  3.55it/s]\u001b[A\n",
            "Training:  78% 32/41 [00:09<00:02,  3.52it/s]\u001b[A\n",
            "Training:  80% 33/41 [00:09<00:02,  3.51it/s]\u001b[A\n",
            "Training:  83% 34/41 [00:09<00:01,  3.53it/s]\u001b[A\n",
            "Training:  85% 35/41 [00:09<00:01,  3.53it/s]\u001b[A\n",
            "Training:  88% 36/41 [00:10<00:01,  3.53it/s]\u001b[A\n",
            "Training:  90% 37/41 [00:10<00:01,  3.52it/s]\u001b[A\n",
            "Training:  93% 38/41 [00:10<00:00,  3.51it/s]\u001b[A\n",
            "Training:  95% 39/41 [00:11<00:00,  3.52it/s]\u001b[A\n",
            "Training:  98% 40/41 [00:11<00:00,  3.52it/s]\u001b[ATraining beyond specified 't_total' steps with schedule 'warmup_linear'. Learning rate set to 0.0. Please set 't_total' of BertAdam correctly.\n",
            "\n",
            "Training: 100% 41/41 [00:11<00:00,  4.13it/s]\u001b[A\n",
            "\u001b[A\n",
            "Evaluating:   0% 0/5 [00:00<?, ?it/s]\u001b[A\n",
            "Evaluating:  40% 2/5 [00:00<00:00, 15.17it/s]\u001b[A\n",
            "Evaluating:  80% 4/5 [00:00<00:00, 14.93it/s]\u001b[A\n",
            "Epoch: 100% 2/2 [00:25<00:00, 12.68s/it]\n"
          ],
          "name": "stdout"
        }
      ]
    },
    {
      "cell_type": "code",
      "metadata": {
        "id": "i2OQwbCUa4BT",
        "colab_type": "code",
        "colab": {}
      },
      "source": [
        "#! python -m models.bert --dataset Lyrics --model bert-base-uncased --max-seq-length 256 --batch-size 16 --lr 2e-5 --epochs 2 --trained-model model_checkpoints/bert/Reuters/2019-07-21_21-02-49.pt > /content/results_test.txt"
      ],
      "execution_count": 0,
      "outputs": []
    },
    {
      "cell_type": "markdown",
      "metadata": {
        "id": "Jv3I_j5eUPss",
        "colab_type": "text"
      },
      "source": [
        ""
      ]
    }
  ]
}